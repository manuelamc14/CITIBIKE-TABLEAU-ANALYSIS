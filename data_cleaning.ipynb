{
 "cells": [
  {
   "cell_type": "markdown",
   "metadata": {},
   "source": [
    "# Citi Bike data cleaning & merging"
   ]
  },
  {
   "cell_type": "code",
   "execution_count": 1,
   "metadata": {},
   "outputs": [],
   "source": [
    "# Dependencies\n",
    "import pandas as pd"
   ]
  },
  {
   "cell_type": "code",
   "execution_count": 2,
   "metadata": {},
   "outputs": [],
   "source": [
    "# Path to the CSV files\n",
    "\n",
    "january = 'Resources/JC-202001-citibike-tripdata.csv'\n",
    "february = 'Resources/JC-202002-citibike-tripdata.csv'\n",
    "march = 'Resources/JC-202003-citibike-tripdata.csv'\n",
    "april = 'Resources/JC-202004-citibike-tripdata.csv'\n",
    "may = 'Resources/JC-202005-citibike-tripdata.csv'\n",
    "june = 'Resources/JC-202006-citibike-tripdata.csv'\n",
    "july = 'Resources/JC-202007-citibike-tripdata.csv'\n",
    "august = 'Resources/JC-202008-citibike-tripdata.csv'\n",
    "september = 'Resources/JC-202009-citibike-tripdata.csv'\n",
    "october = 'Resources/JC-202010-citibike-tripdata.csv'\n",
    "november = 'Resources/JC-202011-citibike-tripdata.csv'\n",
    "december = 'Resources/JC-202012-citibike-tripdata.csv'"
   ]
  },
  {
   "cell_type": "code",
   "execution_count": 3,
   "metadata": {},
   "outputs": [],
   "source": [
    "# Read csv files \n",
    "\n",
    "january_df = pd.read_csv(january)\n",
    "february_df = pd.read_csv(february)\n",
    "march_df = pd.read_csv(march)\n",
    "april_df = pd.read_csv(april)\n",
    "may_df = pd.read_csv(may)\n",
    "june_df = pd.read_csv(june)\n",
    "july_df = pd.read_csv(july)\n",
    "august_df = pd.read_csv(august)\n",
    "september_df = pd.read_csv(september)\n",
    "october_df = pd.read_csv(october)\n",
    "november_df = pd.read_csv(november)\n",
    "december_df = pd.read_csv(december)"
   ]
  },
  {
   "cell_type": "code",
   "execution_count": 4,
   "metadata": {},
   "outputs": [
    {
     "data": {
      "text/html": [
       "<div>\n",
       "<style scoped>\n",
       "    .dataframe tbody tr th:only-of-type {\n",
       "        vertical-align: middle;\n",
       "    }\n",
       "\n",
       "    .dataframe tbody tr th {\n",
       "        vertical-align: top;\n",
       "    }\n",
       "\n",
       "    .dataframe thead th {\n",
       "        text-align: right;\n",
       "    }\n",
       "</style>\n",
       "<table border=\"1\" class=\"dataframe\">\n",
       "  <thead>\n",
       "    <tr style=\"text-align: right;\">\n",
       "      <th></th>\n",
       "      <th>tripduration</th>\n",
       "      <th>starttime</th>\n",
       "      <th>stoptime</th>\n",
       "      <th>start station id</th>\n",
       "      <th>start station name</th>\n",
       "      <th>start station latitude</th>\n",
       "      <th>start station longitude</th>\n",
       "      <th>end station id</th>\n",
       "      <th>end station name</th>\n",
       "      <th>end station latitude</th>\n",
       "      <th>end station longitude</th>\n",
       "      <th>bikeid</th>\n",
       "      <th>usertype</th>\n",
       "      <th>birth year</th>\n",
       "      <th>gender</th>\n",
       "    </tr>\n",
       "  </thead>\n",
       "  <tbody>\n",
       "    <tr>\n",
       "      <th>0</th>\n",
       "      <td>226</td>\n",
       "      <td>2020-01-01 00:04:50.1920</td>\n",
       "      <td>2020-01-01 00:08:37.0370</td>\n",
       "      <td>3186</td>\n",
       "      <td>Grove St PATH</td>\n",
       "      <td>40.719586</td>\n",
       "      <td>-74.043117</td>\n",
       "      <td>3211</td>\n",
       "      <td>Newark Ave</td>\n",
       "      <td>40.721525</td>\n",
       "      <td>-74.046305</td>\n",
       "      <td>29444</td>\n",
       "      <td>Subscriber</td>\n",
       "      <td>1984</td>\n",
       "      <td>2</td>\n",
       "    </tr>\n",
       "    <tr>\n",
       "      <th>1</th>\n",
       "      <td>377</td>\n",
       "      <td>2020-01-01 00:16:01.6700</td>\n",
       "      <td>2020-01-01 00:22:19.0800</td>\n",
       "      <td>3186</td>\n",
       "      <td>Grove St PATH</td>\n",
       "      <td>40.719586</td>\n",
       "      <td>-74.043117</td>\n",
       "      <td>3269</td>\n",
       "      <td>Brunswick &amp; 6th</td>\n",
       "      <td>40.726012</td>\n",
       "      <td>-74.050389</td>\n",
       "      <td>26305</td>\n",
       "      <td>Subscriber</td>\n",
       "      <td>1989</td>\n",
       "      <td>2</td>\n",
       "    </tr>\n",
       "    <tr>\n",
       "      <th>2</th>\n",
       "      <td>288</td>\n",
       "      <td>2020-01-01 00:17:33.8770</td>\n",
       "      <td>2020-01-01 00:22:22.4420</td>\n",
       "      <td>3186</td>\n",
       "      <td>Grove St PATH</td>\n",
       "      <td>40.719586</td>\n",
       "      <td>-74.043117</td>\n",
       "      <td>3269</td>\n",
       "      <td>Brunswick &amp; 6th</td>\n",
       "      <td>40.726012</td>\n",
       "      <td>-74.050389</td>\n",
       "      <td>29268</td>\n",
       "      <td>Customer</td>\n",
       "      <td>1989</td>\n",
       "      <td>1</td>\n",
       "    </tr>\n",
       "    <tr>\n",
       "      <th>3</th>\n",
       "      <td>435</td>\n",
       "      <td>2020-01-01 00:32:05.9020</td>\n",
       "      <td>2020-01-01 00:39:21.0660</td>\n",
       "      <td>3195</td>\n",
       "      <td>Sip Ave</td>\n",
       "      <td>40.730897</td>\n",
       "      <td>-74.063913</td>\n",
       "      <td>3280</td>\n",
       "      <td>Astor Place</td>\n",
       "      <td>40.719282</td>\n",
       "      <td>-74.071262</td>\n",
       "      <td>29278</td>\n",
       "      <td>Customer</td>\n",
       "      <td>1969</td>\n",
       "      <td>0</td>\n",
       "    </tr>\n",
       "    <tr>\n",
       "      <th>4</th>\n",
       "      <td>231</td>\n",
       "      <td>2020-01-01 00:46:19.6780</td>\n",
       "      <td>2020-01-01 00:50:11.3440</td>\n",
       "      <td>3186</td>\n",
       "      <td>Grove St PATH</td>\n",
       "      <td>40.719586</td>\n",
       "      <td>-74.043117</td>\n",
       "      <td>3276</td>\n",
       "      <td>Marin Light Rail</td>\n",
       "      <td>40.714584</td>\n",
       "      <td>-74.042817</td>\n",
       "      <td>29276</td>\n",
       "      <td>Subscriber</td>\n",
       "      <td>1983</td>\n",
       "      <td>2</td>\n",
       "    </tr>\n",
       "    <tr>\n",
       "      <th>...</th>\n",
       "      <td>...</td>\n",
       "      <td>...</td>\n",
       "      <td>...</td>\n",
       "      <td>...</td>\n",
       "      <td>...</td>\n",
       "      <td>...</td>\n",
       "      <td>...</td>\n",
       "      <td>...</td>\n",
       "      <td>...</td>\n",
       "      <td>...</td>\n",
       "      <td>...</td>\n",
       "      <td>...</td>\n",
       "      <td>...</td>\n",
       "      <td>...</td>\n",
       "      <td>...</td>\n",
       "    </tr>\n",
       "    <tr>\n",
       "      <th>11689</th>\n",
       "      <td>1750</td>\n",
       "      <td>2020-12-31 23:07:44.0030</td>\n",
       "      <td>2020-12-31 23:36:54.4710</td>\n",
       "      <td>3199</td>\n",
       "      <td>Newport Pkwy</td>\n",
       "      <td>40.728745</td>\n",
       "      <td>-74.032108</td>\n",
       "      <td>3199</td>\n",
       "      <td>Newport Pkwy</td>\n",
       "      <td>40.728745</td>\n",
       "      <td>-74.032108</td>\n",
       "      <td>40440</td>\n",
       "      <td>Customer</td>\n",
       "      <td>1969</td>\n",
       "      <td>0</td>\n",
       "    </tr>\n",
       "    <tr>\n",
       "      <th>11690</th>\n",
       "      <td>1519</td>\n",
       "      <td>2020-12-31 23:18:00.2630</td>\n",
       "      <td>2020-12-31 23:43:19.8590</td>\n",
       "      <td>3184</td>\n",
       "      <td>Paulus Hook</td>\n",
       "      <td>40.714145</td>\n",
       "      <td>-74.033552</td>\n",
       "      <td>3195</td>\n",
       "      <td>Sip Ave</td>\n",
       "      <td>40.730897</td>\n",
       "      <td>-74.063913</td>\n",
       "      <td>46340</td>\n",
       "      <td>Customer</td>\n",
       "      <td>1969</td>\n",
       "      <td>0</td>\n",
       "    </tr>\n",
       "    <tr>\n",
       "      <th>11691</th>\n",
       "      <td>1761</td>\n",
       "      <td>2020-12-31 23:31:09.4620</td>\n",
       "      <td>2021-01-01 00:00:31.3290</td>\n",
       "      <td>3195</td>\n",
       "      <td>Sip Ave</td>\n",
       "      <td>40.730897</td>\n",
       "      <td>-74.063913</td>\n",
       "      <td>3270</td>\n",
       "      <td>Jersey &amp; 6th St</td>\n",
       "      <td>40.725289</td>\n",
       "      <td>-74.045572</td>\n",
       "      <td>40907</td>\n",
       "      <td>Customer</td>\n",
       "      <td>1998</td>\n",
       "      <td>1</td>\n",
       "    </tr>\n",
       "    <tr>\n",
       "      <th>11692</th>\n",
       "      <td>637</td>\n",
       "      <td>2020-12-31 23:35:45.4640</td>\n",
       "      <td>2020-12-31 23:46:22.7300</td>\n",
       "      <td>3681</td>\n",
       "      <td>Grand St</td>\n",
       "      <td>40.715178</td>\n",
       "      <td>-74.037683</td>\n",
       "      <td>3199</td>\n",
       "      <td>Newport Pkwy</td>\n",
       "      <td>40.728745</td>\n",
       "      <td>-74.032108</td>\n",
       "      <td>42250</td>\n",
       "      <td>Customer</td>\n",
       "      <td>1969</td>\n",
       "      <td>0</td>\n",
       "    </tr>\n",
       "    <tr>\n",
       "      <th>11693</th>\n",
       "      <td>1607</td>\n",
       "      <td>2020-12-31 23:48:34.5750</td>\n",
       "      <td>2021-01-01 00:15:22.3090</td>\n",
       "      <td>3267</td>\n",
       "      <td>Morris Canal</td>\n",
       "      <td>40.712419</td>\n",
       "      <td>-74.038526</td>\n",
       "      <td>3267</td>\n",
       "      <td>Morris Canal</td>\n",
       "      <td>40.712419</td>\n",
       "      <td>-74.038526</td>\n",
       "      <td>48742</td>\n",
       "      <td>Subscriber</td>\n",
       "      <td>1982</td>\n",
       "      <td>1</td>\n",
       "    </tr>\n",
       "  </tbody>\n",
       "</table>\n",
       "<p>336802 rows × 15 columns</p>\n",
       "</div>"
      ],
      "text/plain": [
       "       tripduration                 starttime                  stoptime  \\\n",
       "0               226  2020-01-01 00:04:50.1920  2020-01-01 00:08:37.0370   \n",
       "1               377  2020-01-01 00:16:01.6700  2020-01-01 00:22:19.0800   \n",
       "2               288  2020-01-01 00:17:33.8770  2020-01-01 00:22:22.4420   \n",
       "3               435  2020-01-01 00:32:05.9020  2020-01-01 00:39:21.0660   \n",
       "4               231  2020-01-01 00:46:19.6780  2020-01-01 00:50:11.3440   \n",
       "...             ...                       ...                       ...   \n",
       "11689          1750  2020-12-31 23:07:44.0030  2020-12-31 23:36:54.4710   \n",
       "11690          1519  2020-12-31 23:18:00.2630  2020-12-31 23:43:19.8590   \n",
       "11691          1761  2020-12-31 23:31:09.4620  2021-01-01 00:00:31.3290   \n",
       "11692           637  2020-12-31 23:35:45.4640  2020-12-31 23:46:22.7300   \n",
       "11693          1607  2020-12-31 23:48:34.5750  2021-01-01 00:15:22.3090   \n",
       "\n",
       "       start station id start station name  start station latitude  \\\n",
       "0                  3186      Grove St PATH               40.719586   \n",
       "1                  3186      Grove St PATH               40.719586   \n",
       "2                  3186      Grove St PATH               40.719586   \n",
       "3                  3195            Sip Ave               40.730897   \n",
       "4                  3186      Grove St PATH               40.719586   \n",
       "...                 ...                ...                     ...   \n",
       "11689              3199       Newport Pkwy               40.728745   \n",
       "11690              3184        Paulus Hook               40.714145   \n",
       "11691              3195            Sip Ave               40.730897   \n",
       "11692              3681           Grand St               40.715178   \n",
       "11693              3267       Morris Canal               40.712419   \n",
       "\n",
       "       start station longitude  end station id  end station name  \\\n",
       "0                   -74.043117            3211        Newark Ave   \n",
       "1                   -74.043117            3269   Brunswick & 6th   \n",
       "2                   -74.043117            3269   Brunswick & 6th   \n",
       "3                   -74.063913            3280       Astor Place   \n",
       "4                   -74.043117            3276  Marin Light Rail   \n",
       "...                        ...             ...               ...   \n",
       "11689               -74.032108            3199      Newport Pkwy   \n",
       "11690               -74.033552            3195           Sip Ave   \n",
       "11691               -74.063913            3270   Jersey & 6th St   \n",
       "11692               -74.037683            3199      Newport Pkwy   \n",
       "11693               -74.038526            3267      Morris Canal   \n",
       "\n",
       "       end station latitude  end station longitude  bikeid    usertype  \\\n",
       "0                 40.721525             -74.046305   29444  Subscriber   \n",
       "1                 40.726012             -74.050389   26305  Subscriber   \n",
       "2                 40.726012             -74.050389   29268    Customer   \n",
       "3                 40.719282             -74.071262   29278    Customer   \n",
       "4                 40.714584             -74.042817   29276  Subscriber   \n",
       "...                     ...                    ...     ...         ...   \n",
       "11689             40.728745             -74.032108   40440    Customer   \n",
       "11690             40.730897             -74.063913   46340    Customer   \n",
       "11691             40.725289             -74.045572   40907    Customer   \n",
       "11692             40.728745             -74.032108   42250    Customer   \n",
       "11693             40.712419             -74.038526   48742  Subscriber   \n",
       "\n",
       "       birth year  gender  \n",
       "0            1984       2  \n",
       "1            1989       2  \n",
       "2            1989       1  \n",
       "3            1969       0  \n",
       "4            1983       2  \n",
       "...           ...     ...  \n",
       "11689        1969       0  \n",
       "11690        1969       0  \n",
       "11691        1998       1  \n",
       "11692        1969       0  \n",
       "11693        1982       1  \n",
       "\n",
       "[336802 rows x 15 columns]"
      ]
     },
     "execution_count": 4,
     "metadata": {},
     "output_type": "execute_result"
    }
   ],
   "source": [
    "# Concatenate files\n",
    "\n",
    "merged_df = pd.concat([january_df, february_df, march_df, april_df, may_df, june_df, july_df, \n",
    "             august_df, september_df, october_df, november_df, december_df])\n",
    "\n",
    "merged_df"
   ]
  },
  {
   "cell_type": "code",
   "execution_count": 5,
   "metadata": {},
   "outputs": [
    {
     "name": "stdout",
     "output_type": "stream",
     "text": [
      "<class 'pandas.core.frame.DataFrame'>\n",
      "Int64Index: 336802 entries, 0 to 11693\n",
      "Data columns (total 15 columns):\n",
      " #   Column                   Non-Null Count   Dtype  \n",
      "---  ------                   --------------   -----  \n",
      " 0   tripduration             336802 non-null  int64  \n",
      " 1   starttime                336802 non-null  object \n",
      " 2   stoptime                 336802 non-null  object \n",
      " 3   start station id         336802 non-null  int64  \n",
      " 4   start station name       336802 non-null  object \n",
      " 5   start station latitude   336802 non-null  float64\n",
      " 6   start station longitude  336802 non-null  float64\n",
      " 7   end station id           336802 non-null  int64  \n",
      " 8   end station name         336802 non-null  object \n",
      " 9   end station latitude     336802 non-null  float64\n",
      " 10  end station longitude    336802 non-null  float64\n",
      " 11  bikeid                   336802 non-null  int64  \n",
      " 12  usertype                 336802 non-null  object \n",
      " 13  birth year               336802 non-null  int64  \n",
      " 14  gender                   336802 non-null  int64  \n",
      "dtypes: float64(4), int64(6), object(5)\n",
      "memory usage: 41.1+ MB\n"
     ]
    }
   ],
   "source": [
    "# Examine the overall data \n",
    "\n",
    "merged_df.info()"
   ]
  },
  {
   "cell_type": "markdown",
   "metadata": {},
   "source": [
    "## Re-lable gender categories (0=unknown; 1=male; 2=female)"
   ]
  },
  {
   "cell_type": "code",
   "execution_count": 6,
   "metadata": {},
   "outputs": [],
   "source": [
    "# Convert the data type of 'gender' column from number to string\n",
    "\n",
    "merged_df['gender'] = merged_df['gender'].astype(str)"
   ]
  },
  {
   "cell_type": "code",
   "execution_count": 7,
   "metadata": {},
   "outputs": [
    {
     "name": "stdout",
     "output_type": "stream",
     "text": [
      "<class 'pandas.core.frame.DataFrame'>\n",
      "Int64Index: 336802 entries, 0 to 11693\n",
      "Data columns (total 15 columns):\n",
      " #   Column                   Non-Null Count   Dtype  \n",
      "---  ------                   --------------   -----  \n",
      " 0   tripduration             336802 non-null  int64  \n",
      " 1   starttime                336802 non-null  object \n",
      " 2   stoptime                 336802 non-null  object \n",
      " 3   start station id         336802 non-null  int64  \n",
      " 4   start station name       336802 non-null  object \n",
      " 5   start station latitude   336802 non-null  float64\n",
      " 6   start station longitude  336802 non-null  float64\n",
      " 7   end station id           336802 non-null  int64  \n",
      " 8   end station name         336802 non-null  object \n",
      " 9   end station latitude     336802 non-null  float64\n",
      " 10  end station longitude    336802 non-null  float64\n",
      " 11  bikeid                   336802 non-null  int64  \n",
      " 12  usertype                 336802 non-null  object \n",
      " 13  birth year               336802 non-null  int64  \n",
      " 14  gender                   336802 non-null  object \n",
      "dtypes: float64(4), int64(5), object(6)\n",
      "memory usage: 41.1+ MB\n"
     ]
    }
   ],
   "source": [
    "# Check the data type for gender\n",
    "\n",
    "merged_df.info()"
   ]
  },
  {
   "cell_type": "code",
   "execution_count": 8,
   "metadata": {},
   "outputs": [],
   "source": [
    "# Re-categorize gender labels\n",
    "\n",
    "merged_df = merged_df.replace({'gender': {'0': 'Unknown', '1':'Male', '2':'Female'}}, regex=True)"
   ]
  },
  {
   "cell_type": "code",
   "execution_count": 9,
   "metadata": {},
   "outputs": [
    {
     "data": {
      "text/plain": [
       "Male       199807\n",
       "Female      84798\n",
       "Unknown     52197\n",
       "Name: gender, dtype: int64"
      ]
     },
     "execution_count": 9,
     "metadata": {},
     "output_type": "execute_result"
    }
   ],
   "source": [
    "# Verify the new labels\n",
    "\n",
    "merged_df[\"gender\"].value_counts()"
   ]
  },
  {
   "cell_type": "markdown",
   "metadata": {},
   "source": [
    "## Birth year cleaning "
   ]
  },
  {
   "cell_type": "code",
   "execution_count": 10,
   "metadata": {},
   "outputs": [
    {
     "data": {
      "text/plain": [
       "count    336802.000000\n",
       "mean       1981.299158\n",
       "std          11.046780\n",
       "min        1888.000000\n",
       "25%        1969.000000\n",
       "50%        1984.000000\n",
       "75%        1990.000000\n",
       "max        2004.000000\n",
       "Name: birth year, dtype: float64"
      ]
     },
     "execution_count": 10,
     "metadata": {},
     "output_type": "execute_result"
    }
   ],
   "source": [
    "# Examine the descriptive stats for birth years\n",
    "\n",
    "merged_df['birth year'].describe()"
   ]
  },
  {
   "cell_type": "code",
   "execution_count": 11,
   "metadata": {},
   "outputs": [
    {
     "data": {
      "text/plain": [
       "(1986.6, 1992.4]      89576\n",
       "(1963.4, 1969.2]      67152\n",
       "(1980.8, 1986.6]      59544\n",
       "(1992.4, 1998.2]      44887\n",
       "(1975.0, 1980.8]      29363\n",
       "(1969.2, 1975.0]      20919\n",
       "(1957.6, 1963.4]      14427\n",
       "(1998.2, 2004.0]       5711\n",
       "(1951.8, 1957.6]       4206\n",
       "(1946.0, 1951.8]        898\n",
       "(1940.2, 1946.0]         89\n",
       "(1887.883, 1893.8]       18\n",
       "(1928.6, 1934.4]          6\n",
       "(1934.4, 1940.2]          3\n",
       "(1899.6, 1905.4]          2\n",
       "(1917.0, 1922.8]          1\n",
       "(1922.8, 1928.6]          0\n",
       "(1911.2, 1917.0]          0\n",
       "(1905.4, 1911.2]          0\n",
       "(1893.8, 1899.6]          0\n",
       "Name: birth year, dtype: int64"
      ]
     },
     "execution_count": 11,
     "metadata": {},
     "output_type": "execute_result"
    }
   ],
   "source": [
    "# Examine the distribution of birth years to find outliers\n",
    "# Most birth years are 1946 and up (avg = 1981)\n",
    "\n",
    "merged_df['birth year'].value_counts(bins=20)"
   ]
  },
  {
   "cell_type": "code",
   "execution_count": 12,
   "metadata": {},
   "outputs": [],
   "source": [
    "# Drop rows where the birth year is less than 1946\n",
    "\n",
    "merged_df = merged_df[merged_df['birth year'] > 1945]"
   ]
  },
  {
   "cell_type": "code",
   "execution_count": 13,
   "metadata": {},
   "outputs": [
    {
     "data": {
      "text/plain": [
       "tripduration               336742\n",
       "starttime                  336742\n",
       "stoptime                   336742\n",
       "start station id           336742\n",
       "start station name         336742\n",
       "start station latitude     336742\n",
       "start station longitude    336742\n",
       "end station id             336742\n",
       "end station name           336742\n",
       "end station latitude       336742\n",
       "end station longitude      336742\n",
       "bikeid                     336742\n",
       "usertype                   336742\n",
       "birth year                 336742\n",
       "gender                     336742\n",
       "dtype: int64"
      ]
     },
     "execution_count": 13,
     "metadata": {},
     "output_type": "execute_result"
    }
   ],
   "source": [
    "# Check to see that rows were dropped\n",
    "\n",
    "merged_df.count()"
   ]
  },
  {
   "cell_type": "markdown",
   "metadata": {},
   "source": [
    "## Trip duration cleaning "
   ]
  },
  {
   "cell_type": "code",
   "execution_count": 14,
   "metadata": {},
   "outputs": [
    {
     "data": {
      "text/plain": [
       "count    3.367420e+05\n",
       "mean     1.574596e+03\n",
       "std      1.802599e+04\n",
       "min      6.100000e+01\n",
       "25%      3.260000e+02\n",
       "50%      6.150000e+02\n",
       "75%      1.416000e+03\n",
       "max      3.261756e+06\n",
       "Name: tripduration, dtype: float64"
      ]
     },
     "execution_count": 14,
     "metadata": {},
     "output_type": "execute_result"
    }
   ],
   "source": [
    "# Examine descriptive stats for trip duration (seconds)\n",
    "\n",
    "merged_df['tripduration'].describe()"
   ]
  },
  {
   "cell_type": "code",
   "execution_count": 15,
   "metadata": {},
   "outputs": [
    {
     "data": {
      "text/plain": [
       "(-3200.6960000000004, 108784.167]    336509\n",
       "(108784.167, 217507.333]                111\n",
       "(217507.333, 326230.5]                   41\n",
       "(326230.5, 434953.667]                   24\n",
       "(543676.833, 652400.0]                    9\n",
       "(434953.667, 543676.833]                  7\n",
       "(652400.0, 761123.167]                    6\n",
       "(761123.167, 869846.333]                  5\n",
       "(1522185.333, 1630908.5]                  4\n",
       "(1087292.667, 1196015.833]                3\n",
       "(1630908.5, 1739631.667]                  3\n",
       "(869846.333, 978569.5]                    3\n",
       "(1196015.833, 1304739.0]                  3\n",
       "(1957078.0, 2065801.167]                  2\n",
       "(1848354.833, 1957078.0]                  2\n",
       "(1413462.167, 1522185.333]                2\n",
       "(978569.5, 1087292.667]                   2\n",
       "(2065801.167, 2174524.333]                1\n",
       "(2391970.667, 2500693.833]                1\n",
       "(3153032.833, 3261756.0]                  1\n",
       "(1304739.0, 1413462.167]                  1\n",
       "(3044309.667, 3153032.833]                1\n",
       "(1739631.667, 1848354.833]                1\n",
       "(2283247.5, 2391970.667]                  0\n",
       "(2500693.833, 2609417.0]                  0\n",
       "(2609417.0, 2718140.167]                  0\n",
       "(2718140.167, 2826863.333]                0\n",
       "(2826863.333, 2935586.5]                  0\n",
       "(2935586.5, 3044309.667]                  0\n",
       "(2174524.333, 2283247.5]                  0\n",
       "Name: tripduration, dtype: int64"
      ]
     },
     "execution_count": 15,
     "metadata": {},
     "output_type": "execute_result"
    }
   ],
   "source": [
    "# Examine the distribution of trip duration to find outliers\n",
    "# Most cases have a trip duration less than 1108785 seconds\n",
    "\n",
    "merged_df['tripduration'].value_counts(bins=30)"
   ]
  },
  {
   "cell_type": "code",
   "execution_count": 16,
   "metadata": {},
   "outputs": [],
   "source": [
    "# Drop rows where the trip duration is greater than 1108785 seconds\n",
    "\n",
    "merged_df = merged_df[merged_df['tripduration'] < 108785]"
   ]
  },
  {
   "cell_type": "code",
   "execution_count": 17,
   "metadata": {},
   "outputs": [
    {
     "data": {
      "text/plain": [
       "tripduration               336509\n",
       "starttime                  336509\n",
       "stoptime                   336509\n",
       "start station id           336509\n",
       "start station name         336509\n",
       "start station latitude     336509\n",
       "start station longitude    336509\n",
       "end station id             336509\n",
       "end station name           336509\n",
       "end station latitude       336509\n",
       "end station longitude      336509\n",
       "bikeid                     336509\n",
       "usertype                   336509\n",
       "birth year                 336509\n",
       "gender                     336509\n",
       "dtype: int64"
      ]
     },
     "execution_count": 17,
     "metadata": {},
     "output_type": "execute_result"
    }
   ],
   "source": [
    "# Check to see that rows were dropped\n",
    "\n",
    "merged_df.count()"
   ]
  },
  {
   "cell_type": "code",
   "execution_count": 18,
   "metadata": {},
   "outputs": [],
   "source": [
    "# Export data frame to a csv file\n",
    "merged_df.to_csv('Resources/merged_data.csv', index = False, header=True )"
   ]
  },
  {
   "cell_type": "code",
   "execution_count": null,
   "metadata": {},
   "outputs": [],
   "source": []
  }
 ],
 "metadata": {
  "kernelspec": {
   "display_name": "Python [conda env:PythonData2] *",
   "language": "python",
   "name": "conda-env-PythonData2-py"
  },
  "language_info": {
   "codemirror_mode": {
    "name": "ipython",
    "version": 3
   },
   "file_extension": ".py",
   "mimetype": "text/x-python",
   "name": "python",
   "nbconvert_exporter": "python",
   "pygments_lexer": "ipython3",
   "version": "3.6.10"
  }
 },
 "nbformat": 4,
 "nbformat_minor": 4
}
